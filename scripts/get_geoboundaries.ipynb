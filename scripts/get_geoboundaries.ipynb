{
 "cells": [
  {
   "cell_type": "code",
   "execution_count": 3,
   "metadata": {},
   "outputs": [],
   "source": [
    "from pathlib import Path\n",
    "import requests\n",
    "import json\n",
    "from configparser import ConfigParser\n",
    "\n",
    "import psycopg\n",
    "import pandas as pd\n",
    "import geopandas as gpd"
   ]
  },
  {
   "cell_type": "code",
   "execution_count": 4,
   "metadata": {},
   "outputs": [],
   "source": [
    "parser = ConfigParser()\n",
    "# read config file\n",
    "parser.read(\"database.ini\")\n",
    "params = dict(parser[\"postgresql\"])\n"
   ]
  },
  {
   "cell_type": "markdown",
   "metadata": {},
   "source": [
    "# Set up database\n",
    "\n",
    "Schema: \n",
    "\n",
    "![Schema](../data/Schema.png)"
   ]
  },
  {
   "cell_type": "code",
   "execution_count": 13,
   "metadata": {},
   "outputs": [],
   "source": [
    "with psycopg.connect(**params) as conn:\n",
    "    # Open a cursor to perform database operations\n",
    "    with conn.cursor() as cur:\n",
    "\n",
    "        # Execute a command: this creates a new table\n",
    "        cur.execute(\"\"\"\n",
    "            CREATE TABLE Countries (\n",
    "                ISO text PRIMARY KEY,\n",
    "                EnglishName text,\n",
    "                Endonym text,\n",
    "                ADM0simple geometry)\n",
    "            \"\"\")\n",
    "        cur.execute(\"\"\"\n",
    "            CREATE TABLE ADM1 (\n",
    "                Country_ISO text,\n",
    "                FOREIGN KEY (Country_ISO) REFERENCES Countries(ISO)\n",
    "                ADM1_ID Int PRIMARY KEY\n",
    "                ADM1simple geometry)\n",
    "            \"\"\")\n",
    "        cur.execute(\"\"\"\n",
    "            CREATE TABLE Organizations (\n",
    "                Org_ID text PRIMARY KEY,\n",
    "                OrgName text\n",
    "            );\n",
    "            \"\"\")\n",
    "        cur.execute(\"\"\"\n",
    "            CREATE TABLE Memberships (\n",
    "                Country_ISO text,\n",
    "                Org_ID text,\n",
    "                PRIMARY KEY (Country_ISO, Org_ID),\n",
    "                FOREIGN KEY (Country_ISO) REFERENCES Countries(ISO),\n",
    "                FOREIGN KEY (Org_ID) REFERENCES Organizations(Org_ID)\n",
    "            );\n",
    "            \"\"\")"
   ]
  },
  {
   "cell_type": "code",
   "execution_count": 94,
   "metadata": {},
   "outputs": [],
   "source": [
    "with psycopg.connect(**params) as conn:\n",
    "    # Open a cursor to perform database operations\n",
    "    with conn.cursor() as cur:\n",
    "        cur.execute(\"\"\"\n",
    "            CREATE TABLE Organizations (\n",
    "                Org_ID text PRIMARY KEY,\n",
    "                OrgName text\n",
    "            );\n",
    "            \"\"\")\n",
    "        cur.execute(\"\"\"\n",
    "        CREATE TABLE Memberships (\n",
    "            Country_ISO text,\n",
    "            Org_ID text,\n",
    "            PRIMARY KEY (Country_ISO, Org_ID),\n",
    "            FOREIGN KEY (Country_ISO) REFERENCES Countries(ISO),\n",
    "            FOREIGN KEY (Org_ID) REFERENCES Organizations(Org_ID)\n",
    "        );\n",
    "        \"\"\")"
   ]
  },
  {
   "cell_type": "code",
   "execution_count": 49,
   "metadata": {},
   "outputs": [],
   "source": [
    "organizations = pd.read_csv(\"../data/CountrycodesOrgs.csv\")"
   ]
  },
  {
   "cell_type": "code",
   "execution_count": 77,
   "metadata": {},
   "outputs": [],
   "source": [
    "orgs = organizations[organizations.org_member == \"member\"].groupby(\"org_id\")"
   ]
  },
  {
   "cell_type": "code",
   "execution_count": 92,
   "metadata": {},
   "outputs": [],
   "source": [
    "org_dicts = {}\n",
    "\n",
    "for name, group in orgs:\n",
    "    org_dicts.update({name: dict(\n",
    "        org_name = group.org_name.values[0].strip(),\n",
    "        members = list(group.ISO_3166_3.values)\n",
    "    )})"
   ]
  },
  {
   "cell_type": "code",
   "execution_count": 93,
   "metadata": {},
   "outputs": [],
   "source": [
    "with open(\"../data/orgs.json\", \"w+\") as fs:\n",
    "    json.dump(org_dicts, fs, indent=2)"
   ]
  },
  {
   "cell_type": "code",
   "execution_count": 103,
   "metadata": {},
   "outputs": [
    {
     "name": "stdout",
     "output_type": "stream",
     "text": [
      "HKG in Org Asian Development Bank not a country in Countries table.\n",
      "HKG in Org Asia-Pacific Economic Cooperation not a country in Countries table.\n",
      "ESH in Org African Union not a country in Countries table.\n",
      "HKG in Org Bank for International Settlements not a country in Countries table.\n",
      "HKG in Org Financial Action Task Force not a country in Countries table.\n",
      "HKG in Org International Hydrographic Organization not a country in Countries table.\n",
      "MAC in Org International Hydrographic Organization not a country in Countries table.\n",
      "SXM in Org International Labor Organization not a country in Countries table.\n",
      "HKG in Org International Monetary Fund not a country in Countries table.\n",
      "MAC in Org International Monetary Fund not a country in Countries table.\n",
      "SXM in Org International Criminal Police Organization not a country in Countries table.\n",
      "HKG in Org International Olympic Committee not a country in Countries table.\n",
      "PRI in Org International Olympic Committee not a country in Countries table.\n",
      "TKL in Org Secretariat of the Pacific Community not a country in Countries table.\n",
      "SGS in Org Universal Postal Union not a country in Countries table.\n",
      "HKG in Org Universal Postal Union not a country in Countries table.\n",
      "IOT in Org Universal Postal Union not a country in Countries table.\n",
      "JEY in Org Universal Postal Union not a country in Countries table.\n",
      "MAF in Org Universal Postal Union not a country in Countries table.\n",
      "MAC in Org Universal Postal Union not a country in Countries table.\n",
      "NFK in Org Universal Postal Union not a country in Countries table.\n",
      "SPM in Org Universal Postal Union not a country in Countries table.\n",
      "PRI in Org Universal Postal Union not a country in Countries table.\n",
      "SXM in Org Universal Postal Union not a country in Countries table.\n",
      "ATF in Org Universal Postal Union not a country in Countries table.\n",
      "TKL in Org Universal Postal Union not a country in Countries table.\n",
      "SGS in Org Union of South American Nations not a country in Countries table.\n",
      "HKG in Org World Customs Organization not a country in Countries table.\n",
      "MAC in Org World Customs Organization not a country in Countries table.\n",
      "HKG in Org World Meteorological Organization not a country in Countries table.\n",
      "MAC in Org World Meteorological Organization not a country in Countries table.\n",
      "SXM in Org World Meteorological Organization not a country in Countries table.\n",
      "HKG in Org World Trade Organization not a country in Countries table.\n",
      "MAC in Org World Trade Organization not a country in Countries table.\n"
     ]
    }
   ],
   "source": [
    "\n",
    "with psycopg.connect(**params, autocommit=True) as conn:\n",
    "    # Open a cursor to perform database operations\n",
    "    with conn.cursor() as cur:\n",
    "        for org_short, values in org_dicts.items():\n",
    "            cur.execute(\"INSERT INTO Organizations (Org_ID, OrgName) VALUES (%s, %s)\",\n",
    "                        (org_short, values[\"org_name\"]))\n",
    "            for member in values[\"members\"]:\n",
    "                try:\n",
    "                    cur.execute(\"INSERT INTO Memberships (Org_ID, Country_ISO) VALUES (%s, %s)\",\n",
    "                            (org_short, member))\n",
    "                except psycopg.errors.ForeignKeyViolation:\n",
    "                    print(f\"{member} in Org {values['org_name']} not a country in Countries table.\")\n",
    "                    conn.rollback()"
   ]
  },
  {
   "cell_type": "code",
   "execution_count": 101,
   "metadata": {},
   "outputs": [],
   "source": [
    "with psycopg.connect(**params) as conn:\n",
    "    conn.rollback()"
   ]
  },
  {
   "cell_type": "markdown",
   "metadata": {},
   "source": [
    "That next boy gets a single row of the table and returns its geometry as a geojson. Sweet as."
   ]
  },
  {
   "cell_type": "code",
   "execution_count": 44,
   "metadata": {},
   "outputs": [
    {
     "name": "stdout",
     "output_type": "stream",
     "text": [
      "({'id': 'BEL', 'type': 'Feature', 'geometry': {'type': 'MultiPolygon', 'coordinates': [[[[5.10218, 51.429005], [5.081105, 51.466647], [5.049276, 51.472331], [5.03382, 51.484649], [5.014763, 51.474288], [5.000885, 51.44337], [4.92708, 51.396821], [4.884981, 51.414596], [4.785251, 51.411103], [4.773403, 51.416937], [4.772836, 51.428643], [4.826744, 51.425198], [4.825754, 51.446873], [4.83904, 51.478104], [4.806476, 51.49684], [4.759926, 51.502464], [4.750611, 51.497989], [4.746145, 51.489613], [4.728776, 51.483376], [4.715785, 51.469155], [4.704348, 51.466608], [4.692802, 51.452317], [4.667286, 51.444439], [4.669544, 51.426384], [4.577543, 51.431913], [4.53833, 51.424937], [4.531711, 51.445505], [4.542871, 51.476821], [4.478998, 51.477104], [4.392661, 51.450081], [4.396215, 51.432564], [4.387892, 51.415014], [4.427319, 51.377158], [4.427162, 51.365743], [4.375975, 51.355481], [4.344422, 51.359063], [4.32898, 51.376562], [4.279565, 51.376017], [4.218264, 51.373026], [4.226164, 51.360486], [4.242049, 51.353967], [4.159673, 51.290062], [4.061566, 51.245616], [4.006679, 51.24173], [3.977667, 51.225132], [3.945685, 51.214098], [3.925269, 51.21713], [3.893161, 51.202758], [3.882508, 51.206033], [3.886016, 51.22019], [3.85634, 51.211056], [3.793982, 51.215133], [3.791648, 51.253843], [3.783784, 51.259938], [3.593884, 51.303257], [3.579156, 51.290221], [3.519479, 51.28564], [3.524928, 51.251993], [3.519237, 51.246263], [3.437184, 51.243748], [3.380661, 51.274299], [3.362843, 51.314634], [3.381907, 51.336074], [3.365788, 51.369835], [3.294071, 51.354949], [3.253305, 51.343357], [3.227534, 51.340065], [3.226384, 51.351708], [3.22264, 51.358604], [3.199672, 51.362584], [3.185943, 51.361176], [3.169849, 51.350006], [3.179541, 51.331075], [3.110689, 51.312259], [2.749052, 51.16177], [2.679294, 51.136121], [2.651029, 51.129148], [2.604628, 51.110096], [2.546011, 51.089382], [2.57826, 51.003547], [2.604196, 50.988626], [2.62854, 50.950621], [2.593965, 50.920061], [2.607036, 50.912689], [2.604263, 50.850736], [2.63351, 50.818161], [2.714885, 50.811572], [2.735099, 50.785044], [2.778807, 50.750164], [2.794311, 50.726818], [2.818283, 50.718314], [2.846408, 50.71934], [2.863276, 50.708343], [2.905895, 50.695239], [2.927159, 50.70931], [2.945437, 50.747285], [3.018709, 50.773533], [3.098481, 50.779019], [3.11406, 50.791052], [3.146566, 50.788268], [3.176996, 50.756164], [3.209403, 50.714075], [3.245294, 50.713009], [3.258739, 50.69993], [3.260948, 50.678201], [3.24274, 50.65871], [3.276353, 50.597605], [3.281254, 50.538705], [3.290003, 50.526699], [3.379276, 50.493177], [3.448109, 50.509304], [3.47058, 50.530759], [3.499982, 50.528756], [3.516413, 50.520625], [3.500038, 50.499385], [3.503395, 50.490141], [3.565277, 50.499086], [3.615082, 50.490399], [3.65551, 50.461735], [3.672889, 50.410598], [3.660615, 50.371148], [3.66701, 50.350223], [3.708769, 50.305671], [3.728673, 50.315717], [3.735121, 50.339707], [3.748665, 50.349221], [3.845351, 50.351653], [3.896869, 50.327563], [4.027775, 50.35833], [4.081304, 50.311336], [4.117576, 50.300243], [4.125862, 50.276228], [4.143412, 50.258459], [4.163547, 50.26038], [4.153368, 50.276684], [4.165829, 50.286201], [4.204732, 50.272096], [4.218107, 50.257433], [4.154711, 50.213024], [4.152743, 50.163838], [4.130041, 50.136741], [4.194753, 50.132902], [4.205671, 50.099914], [4.227928, 50.071379], [4.153089, 50.039038], [4.137487, 50.016883], [4.159568, 49.994162], [4.140853, 49.97876], [4.153539, 49.974885], [4.173883, 49.97604], [4.178457, 49.97237], [4.196499, 49.967295], [4.197322, 49.954494], [4.206613, 49.957442], [4.233133, 49.957828], [4.312685, 49.967293], [4.350543, 49.95346], [4.432494, 49.941616], [4.512658, 49.947916], [4.58002, 49.981501], [4.683182, 49.997766], [4.697742, 50.052016], [4.683472, 50.065669], [4.689283, 50.078543], [4.704843, 50.095168], [4.747454, 50.111523], [4.766433, 50.136864], [4.796697, 50.148678], [4.822714, 50.163921], [4.839189, 50.15385], [4.874132, 50.152179], [4.891011, 50.135925], [4.870902, 50.120915], [4.869515, 50.091437], [4.844663, 50.096514], [4.839961, 50.073396], [4.823662, 50.063425], [4.83795, 50.039632], [4.821409, 50.024077], [4.81546, 49.993662], [4.792314, 49.968232], [4.797384, 49.957276], [4.84701, 49.946442], [4.886685, 49.911223], [4.853907, 49.861524], [4.872622, 49.819534], [4.856525, 49.79357], [4.924615, 49.786551], [4.969431, 49.801826], [4.993945, 49.799237], [5.020449, 49.778071], [5.089363, 49.76335], [5.117244, 49.738742], [5.129736, 49.713445], [5.153739, 49.717926], [5.175874, 49.694152], [5.285521, 49.684736], [5.325453, 49.656145], [5.309077, 49.624957], [5.314955, 49.615534], [5.350342, 49.628232], [5.393511, 49.617111], [5.453145, 49.565679], [5.446007, 49.550099], [5.464972, 49.531827], [5.4511, 49.51743], [5.470883, 49.497238], [5.559477, 49.527271], [5.611183, 49.509314], [5.622595, 49.532769], [5.65203, 49.551401], [5.706503, 49.539955], [5.734556, 49.54569], [5.740038, 49.539031], [5.757128, 49.542587], [5.756299, 49.555465], [5.758997, 49.560282], [5.771255, 49.562978], [5.783978, 49.558168], [5.793435, 49.551512], [5.807443, 49.550123], [5.818117, 49.54631], [5.868309, 49.574179], [5.868141, 49.585306], [5.850886, 49.595015], [5.872899, 49.608384], [5.879728, 49.622981], [5.904065, 49.6401], [5.906198, 49.661604], [5.864868, 49.680575], [5.882016, 49.713229], [5.863425, 49.724727], [5.829912, 49.724328], [5.827045, 49.747831], [5.789156, 49.792094], [5.756461, 49.794191], [5.743104, 49.833753], [5.752513, 49.847861], [5.746319, 49.853595], [5.772173, 49.878041], [5.745485, 49.90362], [5.76241, 49.920342], [5.779931, 49.958751], [5.83174, 49.982599], [5.825529, 50.010964], [5.857176, 50.031105], [5.862947, 50.064603], [5.883949, 50.081665], [5.898151, 50.109885], [5.954893, 50.133147], [5.97197, 50.17189], [6.0249, 50.182779], [6.032995, 50.16492], [6.055715, 50.155865], [6.074383, 50.157106], [6.085489, 50.170037], [6.11096, 50.166561], [6.120461, 50.150533], [6.115963, 50.136852], [6.137663, 50.129951], [6.152019, 50.143463], [6.14066, 50.152709], [6.144673, 50.172265], [6.186511, 50.184053], [6.1849, 50.20686], [6.170741, 50.220853], [6.180311, 50.23434], [6.217401, 50.255698], [6.281067, 50.269833], [6.289262, 50.294631], [6.313107, 50.320706], [6.358116, 50.310706], [6.405029, 50.323308], [6.400672, 50.341919], [6.346816, 50.380147], [6.367037, 50.407168], [6.374415, 50.44776], [6.34409, 50.461605], [6.340089, 50.487413], [6.315556, 50.497042], [6.226624, 50.497614], [6.206559, 50.517993], [6.192201, 50.521055], [6.193873, 50.535227], [6.177047, 50.551694], [6.189313, 50.566094], [6.241527, 50.591434], [6.265564, 50.62468], [6.203118, 50.632828], [6.184152, 50.628095], [6.177843, 50.653061], [6.115915, 50.718751], [6.038158, 50.723206], [6.03654, 50.745225], [6.020999, 50.754295], [5.98356, 50.75309], [5.975391, 50.755419], [5.971998, 50.759749], [5.960132, 50.762024], [5.930424, 50.756366], [5.917619, 50.750964], [5.913641, 50.755315], [5.905964, 50.755288], [5.901262, 50.752076], [5.892073, 50.755237], [5.886291, 50.769484], [5.863435, 50.763342], [5.849627, 50.755369], [5.844917, 50.765385], [5.830475, 50.758879], [5.808213, 50.756372], [5.793761, 50.769335], [5.784418, 50.768286], [5.77704, 50.780936], [5.770756, 50.782695], [5.763358, 50.780795], [5.74604, 50.769308], [5.737277, 50.757787], [5.72997, 50.75814], [5.719764, 50.762765], [5.697085, 50.755734], [5.682001, 50.757446], [5.69828, 50.781659], [5.687622, 50.811924], [5.657657, 50.820858], [5.641507, 50.851945], [5.648376, 50.871182], [5.681774, 50.885218], [5.698645, 50.907388], [5.722378, 50.912748], [5.753773, 50.951061], [5.724508, 50.964109], [5.760226, 50.993031], [5.772618, 51.021927], [5.761677, 51.035022], [5.77275, 51.056973], [5.798274, 51.059853], [5.80048, 51.089617], [5.830268, 51.099678], [5.81235, 51.11732], [5.850795, 51.142683], [5.829353, 51.162505], [5.781677, 51.154983], [5.77063, 51.179368], [5.753334, 51.186567], [5.662353, 51.185415], [5.644885, 51.199628], [5.566284, 51.220836], [5.553517, 51.266147], [5.515184, 51.293845], [5.494726, 51.298495], [5.414989, 51.263611], [5.351861, 51.27394], [5.329681, 51.263407], [5.237717, 51.2616], [5.226578, 51.269201], [5.241098, 51.305663], [5.200245, 51.322619], [5.174155, 51.316048], [5.162362, 51.310742], [5.134465, 51.31549], [5.131386, 51.347105], [5.120852, 51.354552], [5.115479, 51.361915], [5.071045, 51.393421], [5.10218, 51.429005]]], [[[4.940002, 51.430601], [4.935002, 51.441787], [4.923926, 51.441586], [4.916859, 51.435386], [4.92879, 51.430285], [4.940002, 51.430601]]]]}, 'properties': {}},)\n"
     ]
    }
   ],
   "source": [
    "with psycopg.connect(**params) as conn:\n",
    "    # Open a cursor to perform database operations\n",
    "    with conn.cursor() as cur:\n",
    "        cur.execute(\n",
    "            \"\"\"\n",
    "SELECT jsonb_build_object(\n",
    "'type',       'Feature',\n",
    "'id',         iso,\n",
    "'geometry',   ST_AsGeoJSON(simplegeom)::jsonb,\n",
    "'properties', to_jsonb(row) - 'iso' - 'simplegeom'\n",
    ") FROM (SELECT * FROM adm0) row limit 1;\"\"\"\n",
    "        )\n",
    "        for thing in cur:\n",
    "            print(thing)\n"
   ]
  },
  {
   "cell_type": "code",
   "execution_count": 14,
   "metadata": {},
   "outputs": [],
   "source": [
    "country_paths = list(Path(\"../geoBoundaries/releaseData/gbOpen/\").iterdir())"
   ]
  },
  {
   "cell_type": "code",
   "execution_count": 15,
   "metadata": {},
   "outputs": [],
   "source": [
    "def build_donwload_url(adm, iso):\n",
    "    return f\"https://github.com/wmgeolab/geoBoundaries/raw/main/releaseData/gbOpen/{iso}/{adm}/geoBoundaries-{iso}-{adm}_simplified.geojson\""
   ]
  },
  {
   "cell_type": "markdown",
   "metadata": {},
   "source": [
    "The next cell adds the geometries for ADM0 to the database. Some might fail due to no file available"
   ]
  },
  {
   "cell_type": "code",
   "execution_count": 35,
   "metadata": {},
   "outputs": [
    {
     "name": "stdout",
     "output_type": "stream",
     "text": [
      "SLE\n",
      "ERI\n",
      "ESP\n",
      "SVK\n",
      "TUV\n",
      "CZE\n",
      "KEN\n",
      "SHN\n",
      "VGB\n",
      "SLB\n",
      "COL\n",
      "SAU\n",
      "MAR\n",
      "HND\n",
      "KOR\n",
      "KHM\n",
      "SUR\n",
      "GEO\n",
      "PCN\n",
      "CHN\n",
      "GUM\n",
      "FLK\n",
      "ZWE\n",
      "ASM\n",
      "YEM\n",
      "TLS\n",
      "LSO\n",
      "MCO\n",
      "ATG\n",
      "GMB\n",
      "MTQ\n",
      "URY\n",
      "GRL\n",
      "CRI\n",
      "PER\n",
      "GRC\n"
     ]
    }
   ],
   "source": [
    "with psycopg.connect(autocommit=True, **params) as conn:\n",
    "    with conn.cursor() as cur:\n",
    "        for country_path in country_paths[195:]:\n",
    "            download_url = build_donwload_url(\"ADM0\", country_path.stem)\n",
    "            r = requests.get(download_url)\n",
    "            try:\n",
    "                r.raise_for_status()\n",
    "            except requests.HTTPError as e:\n",
    "                if r.status_code == 404:\n",
    "                    pass\n",
    "                else:\n",
    "                    raise e\n",
    "            geoms = gpd.read_file(r.text)\n",
    "            print(country_path.stem)\n",
    "            for geom in geoms.itertuples():\n",
    "                to_postgis = geom.geometry.wkb_hex\n",
    "                cur.execute(\"INSERT INTO Countries (ISO, EnglishName) VALUES (%s, %s)\",\n",
    "                            (country_path.stem, geom.shapeName))\n",
    "                cur.execute(\"INSERT INTO ADM0 (ISO, SimpleGeom) VALUES (%s, ST_SetSRID(%s::geometry, %s))\",\n",
    "                        (country_path.stem, to_postgis, 4326))"
   ]
  },
  {
   "cell_type": "code",
   "execution_count": 18,
   "metadata": {},
   "outputs": [
    {
     "data": {
      "text/plain": [
       "Pandas(Index=0, shapeName='The Philippines', shapeISO='', shapeID='24100683B85265433280220', shapeGroup='PHL', shapeType='ADM0', geometry=<MULTIPOLYGON (((119.469 4.594, 119.468 4.594, 119.468 4.59, 119.466 4.587, ...>)"
      ]
     },
     "execution_count": 18,
     "metadata": {},
     "output_type": "execute_result"
    }
   ],
   "source": [
    "geoms = gpd.read_file(r.text)\n",
    "geom"
   ]
  }
 ],
 "metadata": {
  "kernelspec": {
   "display_name": ".venv",
   "language": "python",
   "name": "python3"
  },
  "language_info": {
   "codemirror_mode": {
    "name": "ipython",
    "version": 3
   },
   "file_extension": ".py",
   "mimetype": "text/x-python",
   "name": "python",
   "nbconvert_exporter": "python",
   "pygments_lexer": "ipython3",
   "version": "3.8.5"
  },
  "orig_nbformat": 4
 },
 "nbformat": 4,
 "nbformat_minor": 2
}
